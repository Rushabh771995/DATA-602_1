{
  "nbformat": 4,
  "nbformat_minor": 0,
  "metadata": {
    "colab": {
      "name": "Vehicle_Insurance_Report.ipynb",
      "provenance": [],
      "collapsed_sections": []
    },
    "kernelspec": {
      "name": "python3",
      "display_name": "Python 3"
    }
  },
  "cells": [
    {
      "cell_type": "markdown",
      "metadata": {
        "id": "zBmfCFefkYwT"
      },
      "source": [
        "**Abstract**:\n",
        "\n",
        "In this era where information technology is at its pinnacle, Machine Learning is becoming a very important path for predective modeling. Industries all over the world are interested in this field as it would bring them insights about the enermous data that is being generated and using it to predict their chances of success in new fields. In this project we will use different machine learning classification algorithms to find the accurate algorithm for predicting the response of customers for a new business venture (getting into the field of vehicle insurance) for an existing health insurance company."
      ]
    },
    {
      "cell_type": "markdown",
      "metadata": {
        "id": "NvzNMfEprjmW"
      },
      "source": [
        "**Introduction:**\n",
        "\n",
        "A health insurance company is looking to make its way into the market providing vehicle insurance. The goal of this project is to compare various classification algorithms to find the one which is more accurate and appropriate for this dataset. Deciding a model to predict whether the policyholders (customers) from past year will also be interested in Vehicle Insurance provided by the company. \n",
        "\n",
        "Data Source: https://www.kaggle.com/anmolkumar/health-insurance-cross-sell-prediction\n",
        "\n",
        "Train Data Shape: \n",
        "\n",
        "            Rows- 381109 \n",
        "            \n",
        "            Columns - 12\n",
        "\n",
        "\n",
        "\n"
      ]
    },
    {
      "cell_type": "markdown",
      "metadata": {
        "id": "ETBfFznOx_IO"
      },
      "source": [
        "**Motivation:**\n",
        "\n",
        "This dataset is from Kaggle hackathon. The challenge here is to evaluate different classification models inorder to predict the most appropriate class. This will give me an opportunity to explore different algorithms and see the results. This dataset has a class imbalance problem that encouraged me to address this problem.\n"
      ]
    },
    {
      "cell_type": "markdown",
      "metadata": {
        "id": "tTnTGgQN0Cbi"
      },
      "source": [
        "**Related work and References:**\n",
        "\n",
        "\n",
        "\n",
        "1.  https://elitedatascience.com/imbalanced-classes\n",
        "\n",
        "2.  https://stackoverflow.com/questions/54052471/mapping-values-in-place-for-example-with-gender-from-string-to-int-in-pandas-d\n",
        "\n",
        "3. https://stackoverflow.com/questions/50325786/sci-kit-learn-how-to-print-labels-for-confusion-matrix\n",
        "\n",
        "4. https://scikit-learn.org/stable/modules/generated/sklearn.metrics.confusion_matrix.html\n",
        "\n",
        "5. https://www.kaggle.com/anmolkumar/vehicle-insurance-eda-lgbm-vs-catboost-85-83\n",
        "\n",
        "\n"
      ]
    },
    {
      "cell_type": "markdown",
      "metadata": {
        "id": "e1liYP_h2qAD"
      },
      "source": [
        "**Proposed Method**:\n",
        "\n",
        "The following classifiers used in the problem:\n",
        "\n",
        "1. Logistic Regression.\n",
        "2. Gaussian Naive Bayes.\n",
        "3. K nearest neighbours.\n",
        "4. Random Forest Classifier.\n",
        "\n",
        "The method used to handle class imbalance in this problem is upscaling.\n"
      ]
    },
    {
      "cell_type": "code",
      "metadata": {
        "id": "gUeMt4QgjBr8",
        "outputId": "aeb3dcbd-c59c-494c-fdcb-40a07e301bcf",
        "colab": {
          "base_uri": "https://localhost:8080/",
          "height": 34
        }
      },
      "source": [
        "from google.colab import drive\n",
        "drive.mount('/content/gdrive/')"
      ],
      "execution_count": 1,
      "outputs": [
        {
          "output_type": "stream",
          "text": [
            "Drive already mounted at /content/gdrive/; to attempt to forcibly remount, call drive.mount(\"/content/gdrive/\", force_remount=True).\n"
          ],
          "name": "stdout"
        }
      ]
    },
    {
      "cell_type": "markdown",
      "metadata": {
        "id": "EIgmw-EE4G-V"
      },
      "source": [
        "Importing Libraries."
      ]
    },
    {
      "cell_type": "code",
      "metadata": {
        "id": "3LsAHcdbsZY-"
      },
      "source": [
        "import pandas as pd\n",
        "import matplotlib.pyplot as plt\n",
        "from sklearn.linear_model import LogisticRegression\n",
        "from sklearn.metrics import confusion_matrix\n",
        "from sklearn.utils import resample,shuffle\n",
        "from sklearn.metrics import accuracy_score\n",
        "from sklearn.naive_bayes import GaussianNB\n",
        "from sklearn.ensemble import RandomForestClassifier\n",
        "from sklearn.model_selection import train_test_split\n",
        "from sklearn.pipeline import Pipeline\n",
        "from sklearn.model_selection import GridSearchCV\n",
        "from sklearn.neighbors import KNeighborsClassifier\n",
        "import numpy as np\n",
        "from sklearn.metrics import plot_confusion_matrix\n"
      ],
      "execution_count": 2,
      "outputs": []
    },
    {
      "cell_type": "markdown",
      "metadata": {
        "id": "1LqWa4U74L7d"
      },
      "source": [
        "Reading the data."
      ]
    },
    {
      "cell_type": "code",
      "metadata": {
        "id": "ZCYxeK_ZsJfg",
        "outputId": "fcd6aefa-0f98-46b4-f1c0-7b4386ccf7a2",
        "colab": {
          "base_uri": "https://localhost:8080/",
          "height": 204
        }
      },
      "source": [
        "train_df= pd.read_csv(\"/content/gdrive/My Drive/insurance_dataset/train.csv\",index_col=None)\n",
        "train_df.head()"
      ],
      "execution_count": 3,
      "outputs": [
        {
          "output_type": "execute_result",
          "data": {
            "text/html": [
              "<div>\n",
              "<style scoped>\n",
              "    .dataframe tbody tr th:only-of-type {\n",
              "        vertical-align: middle;\n",
              "    }\n",
              "\n",
              "    .dataframe tbody tr th {\n",
              "        vertical-align: top;\n",
              "    }\n",
              "\n",
              "    .dataframe thead th {\n",
              "        text-align: right;\n",
              "    }\n",
              "</style>\n",
              "<table border=\"1\" class=\"dataframe\">\n",
              "  <thead>\n",
              "    <tr style=\"text-align: right;\">\n",
              "      <th></th>\n",
              "      <th>id</th>\n",
              "      <th>Gender</th>\n",
              "      <th>Age</th>\n",
              "      <th>Driving_License</th>\n",
              "      <th>Region_Code</th>\n",
              "      <th>Previously_Insured</th>\n",
              "      <th>Vehicle_Age</th>\n",
              "      <th>Vehicle_Damage</th>\n",
              "      <th>Annual_Premium</th>\n",
              "      <th>Policy_Sales_Channel</th>\n",
              "      <th>Vintage</th>\n",
              "      <th>Response</th>\n",
              "    </tr>\n",
              "  </thead>\n",
              "  <tbody>\n",
              "    <tr>\n",
              "      <th>0</th>\n",
              "      <td>1</td>\n",
              "      <td>Male</td>\n",
              "      <td>44</td>\n",
              "      <td>1</td>\n",
              "      <td>28.0</td>\n",
              "      <td>0</td>\n",
              "      <td>&gt; 2 Years</td>\n",
              "      <td>Yes</td>\n",
              "      <td>40454.0</td>\n",
              "      <td>26.0</td>\n",
              "      <td>217</td>\n",
              "      <td>1</td>\n",
              "    </tr>\n",
              "    <tr>\n",
              "      <th>1</th>\n",
              "      <td>2</td>\n",
              "      <td>Male</td>\n",
              "      <td>76</td>\n",
              "      <td>1</td>\n",
              "      <td>3.0</td>\n",
              "      <td>0</td>\n",
              "      <td>1-2 Year</td>\n",
              "      <td>No</td>\n",
              "      <td>33536.0</td>\n",
              "      <td>26.0</td>\n",
              "      <td>183</td>\n",
              "      <td>0</td>\n",
              "    </tr>\n",
              "    <tr>\n",
              "      <th>2</th>\n",
              "      <td>3</td>\n",
              "      <td>Male</td>\n",
              "      <td>47</td>\n",
              "      <td>1</td>\n",
              "      <td>28.0</td>\n",
              "      <td>0</td>\n",
              "      <td>&gt; 2 Years</td>\n",
              "      <td>Yes</td>\n",
              "      <td>38294.0</td>\n",
              "      <td>26.0</td>\n",
              "      <td>27</td>\n",
              "      <td>1</td>\n",
              "    </tr>\n",
              "    <tr>\n",
              "      <th>3</th>\n",
              "      <td>4</td>\n",
              "      <td>Male</td>\n",
              "      <td>21</td>\n",
              "      <td>1</td>\n",
              "      <td>11.0</td>\n",
              "      <td>1</td>\n",
              "      <td>&lt; 1 Year</td>\n",
              "      <td>No</td>\n",
              "      <td>28619.0</td>\n",
              "      <td>152.0</td>\n",
              "      <td>203</td>\n",
              "      <td>0</td>\n",
              "    </tr>\n",
              "    <tr>\n",
              "      <th>4</th>\n",
              "      <td>5</td>\n",
              "      <td>Female</td>\n",
              "      <td>29</td>\n",
              "      <td>1</td>\n",
              "      <td>41.0</td>\n",
              "      <td>1</td>\n",
              "      <td>&lt; 1 Year</td>\n",
              "      <td>No</td>\n",
              "      <td>27496.0</td>\n",
              "      <td>152.0</td>\n",
              "      <td>39</td>\n",
              "      <td>0</td>\n",
              "    </tr>\n",
              "  </tbody>\n",
              "</table>\n",
              "</div>"
            ],
            "text/plain": [
              "   id  Gender  Age  ...  Policy_Sales_Channel  Vintage  Response\n",
              "0   1    Male   44  ...                  26.0      217         1\n",
              "1   2    Male   76  ...                  26.0      183         0\n",
              "2   3    Male   47  ...                  26.0       27         1\n",
              "3   4    Male   21  ...                 152.0      203         0\n",
              "4   5  Female   29  ...                 152.0       39         0\n",
              "\n",
              "[5 rows x 12 columns]"
            ]
          },
          "metadata": {
            "tags": []
          },
          "execution_count": 3
        }
      ]
    },
    {
      "cell_type": "markdown",
      "metadata": {
        "id": "KLorIFNL4Rp3"
      },
      "source": [
        "Mapping the data."
      ]
    },
    {
      "cell_type": "code",
      "metadata": {
        "id": "TEA02ToQwhm5"
      },
      "source": [
        "# Replacing the Male and Female variable to 0 and 1. \n",
        "train_df['Gender'].replace(['Male','Female'],[0,1],inplace=True)\n",
        "#Mapping Yes and No to 1 and 0.\n",
        "train_df['Vehicle_Damage'].replace(['Yes','No'],[1,0],inplace=True)\n",
        "#Mapping the Vehicle_age to integers.\n",
        "train_df['Vehicle_Age'].replace(['< 1 Year','1-2 Year','> 2 Years'],[1,2,3],inplace=True)"
      ],
      "execution_count": 4,
      "outputs": []
    },
    {
      "cell_type": "markdown",
      "metadata": {
        "id": "zKYKqtqL4Zd4"
      },
      "source": [
        "Splitting the data into train and test dataframes."
      ]
    },
    {
      "cell_type": "code",
      "metadata": {
        "id": "8dGELPas3fli",
        "outputId": "9e86694c-9bcb-45f8-a97b-d33553456b11",
        "colab": {
          "base_uri": "https://localhost:8080/",
          "height": 34
        }
      },
      "source": [
        "X_train, X_test, y_train, y_test = train_test_split(train_df.drop(['Response'],axis=1),train_df['Response'], test_size=0.20, random_state=1)\n",
        "print(X_train.shape,X_test.shape,y_train.shape,y_test.shape)"
      ],
      "execution_count": 5,
      "outputs": [
        {
          "output_type": "stream",
          "text": [
            "(304887, 11) (76222, 11) (304887,) (76222,)\n"
          ],
          "name": "stdout"
        }
      ]
    },
    {
      "cell_type": "markdown",
      "metadata": {
        "id": "1hL26RCz4neP"
      },
      "source": [
        "Initializing a dictionary to store the results of every model."
      ]
    },
    {
      "cell_type": "code",
      "metadata": {
        "id": "U0pyIUSaGMXk"
      },
      "source": [
        "eval_dict={}"
      ],
      "execution_count": 6,
      "outputs": []
    },
    {
      "cell_type": "markdown",
      "metadata": {
        "id": "e8Biapem31_C"
      },
      "source": [
        "**Experiments:** \n",
        "\n",
        "Evaluting all the models on the train and test dataset."
      ]
    },
    {
      "cell_type": "code",
      "metadata": {
        "id": "g2fSglehxpMT"
      },
      "source": [
        "#Random Forest Classifier\n",
        "Rfc= RandomForestClassifier()\n",
        "Rfc.fit(X_train, y_train)\n",
        " \n",
        "#Predict on testing set\n",
        "y_pred= Rfc.predict(X_test)\n",
        " \n"
      ],
      "execution_count": 7,
      "outputs": []
    },
    {
      "cell_type": "code",
      "metadata": {
        "id": "bZA_9H8q1oif",
        "outputId": "0e624dc0-efb9-4889-bb86-87a380d4a983",
        "colab": {
          "base_uri": "https://localhost:8080/",
          "height": 68
        }
      },
      "source": [
        "eval_dict['RandomForest']={}\n",
        "eval_dict['RandomForest']['Correctly zero classified']=confusion_matrix(y_test,y_pred)[0][0]\n",
        "eval_dict['RandomForest']['Correctly one classified']=confusion_matrix(y_test,y_pred)[1][1]\n",
        "eval_dict['RandomForest']['Total number of missclassified']=confusion_matrix(y_test,y_pred)[0][1]+confusion_matrix(y_test,y_pred)[1][0]\n",
        "eval_dict['RandomForest']['Accuracy Score']=accuracy_score(y_test,y_pred)\n",
        "#printing the confusion matrix and accuracy score.\n",
        "print(confusion_matrix(y_test,y_pred))\n",
        "print(accuracy_score(y_test,y_pred))"
      ],
      "execution_count": 8,
      "outputs": [
        {
          "output_type": "stream",
          "text": [
            "[[65896  1156]\n",
            " [ 8488   682]]\n",
            "0.8734748497809032\n"
          ],
          "name": "stdout"
        }
      ]
    },
    {
      "cell_type": "code",
      "metadata": {
        "id": "xxeLb_d3hPCb",
        "outputId": "07627cc8-586b-4875-dc86-f0b28f93bdc0",
        "colab": {
          "base_uri": "https://localhost:8080/",
          "height": 296
        }
      },
      "source": [
        "#plotting the confusion matrix.\n",
        "plot_confusion_matrix(Rfc, X_test, y_test,\n",
        "                                 display_labels=[0,1],\n",
        "                                 cmap=plt.cm.Blues)"
      ],
      "execution_count": 9,
      "outputs": [
        {
          "output_type": "execute_result",
          "data": {
            "text/plain": [
              "<sklearn.metrics._plot.confusion_matrix.ConfusionMatrixDisplay at 0x7f33c1cceba8>"
            ]
          },
          "metadata": {
            "tags": []
          },
          "execution_count": 9
        },
        {
          "output_type": "display_data",
          "data": {
            "image/png": "[encoded data removed]",
            "text/plain": [
              "<Figure size 432x288 with 2 Axes>"
            ]
          },
          "metadata": {
            "tags": [],
            "needs_background": "light"
          }
        }
      ]
    },
    {
      "cell_type": "code",
      "metadata": {
        "id": "GhfiLtZ-tUsv"
      },
      "source": [
        "#Logistic Regression\n",
        "logistic_model=LogisticRegression()\n",
        "logistic_model.fit(X_train,y_train)\n",
        "y_pred=logistic_model.predict(X_test)\n"
      ],
      "execution_count": 10,
      "outputs": []
    },
    {
      "cell_type": "code",
      "metadata": {
        "id": "2Gs65aex3dID",
        "outputId": "0002b429-3ea5-4fa3-9c2d-86bea5d27770",
        "colab": {
          "base_uri": "https://localhost:8080/",
          "height": 68
        }
      },
      "source": [
        "#printing the Confusion matrix and Accuracy score \n",
        "print(confusion_matrix(y_test,y_pred))\n",
        "print(\"Accuracy score:-\", accuracy_score(y_test,y_pred))"
      ],
      "execution_count": 11,
      "outputs": [
        {
          "output_type": "stream",
          "text": [
            "[[67052     0]\n",
            " [ 9170     0]]\n",
            "Accuracy score:- 0.8796935268032852\n"
          ],
          "name": "stdout"
        }
      ]
    },
    {
      "cell_type": "code",
      "metadata": {
        "id": "ew5jOkudfKkd",
        "outputId": "fee091d9-c76f-4dd5-8cce-9e855fd8f05d",
        "colab": {
          "base_uri": "https://localhost:8080/",
          "height": 296
        }
      },
      "source": [
        "#plotting the confusion matrix.\n",
        "plot_confusion_matrix(logistic_model, X_test, y_test,\n",
        "                                 display_labels=[0,1],\n",
        "                                 cmap=plt.cm.Blues)"
      ],
      "execution_count": 12,
      "outputs": [
        {
          "output_type": "execute_result",
          "data": {
            "text/plain": [
              "<sklearn.metrics._plot.confusion_matrix.ConfusionMatrixDisplay at 0x7f33c1bc69b0>"
            ]
          },
          "metadata": {
            "tags": []
          },
          "execution_count": 12
        },
        {
          "output_type": "display_data",
          "data": {
            "image/png": "[encoded data removed]",
            "text/plain": [
              "<Figure size 432x288 with 2 Axes>"
            ]
          },
          "metadata": {
            "tags": [],
            "needs_background": "light"
          }
        }
      ]
    },
    {
      "cell_type": "code",
      "metadata": {
        "id": "OJqGB0z-5xOR"
      },
      "source": [
        "eval_dict['LogisticRegression']={}\n",
        "eval_dict['LogisticRegression']['Correctly zero classified']=confusion_matrix(y_test,y_pred)[0][0]\n",
        "eval_dict['LogisticRegression']['Correctly one classified']=confusion_matrix(y_test,y_pred)[1][1]\n",
        "eval_dict['LogisticRegression']['Total number of missclassified']=confusion_matrix(y_test,y_pred)[0][1]+confusion_matrix(y_test,y_pred)[1][0]\n",
        "eval_dict['LogisticRegression']['Accuracy Score']=accuracy_score(y_test,y_pred)"
      ],
      "execution_count": 13,
      "outputs": []
    },
    {
      "cell_type": "code",
      "metadata": {
        "id": "wLJeznZ_3dZZ"
      },
      "source": [
        "#GaussianNB\n",
        "gnb = GaussianNB()\n",
        "y_pred = gnb.fit(X_train, y_train).predict(X_test)\n",
        "#print(\"Number of mislabeled points out of a total %d points : %d\" % (X_test.shape[0], (y_test != y_pred).sum()))"
      ],
      "execution_count": 14,
      "outputs": []
    },
    {
      "cell_type": "code",
      "metadata": {
        "id": "m2U1dn8N3df6",
        "outputId": "ff959605-7951-462d-e65a-2938031f1de9",
        "colab": {
          "base_uri": "https://localhost:8080/",
          "height": 34
        }
      },
      "source": [
        "#printing the Confusion matrix and Accuracy score \n",
        "confusion_matrix(y_test,y_pred)\n",
        "accuracy_score(y_test,y_pred)"
      ],
      "execution_count": 15,
      "outputs": [
        {
          "output_type": "execute_result",
          "data": {
            "text/plain": [
              "0.878197895620687"
            ]
          },
          "metadata": {
            "tags": []
          },
          "execution_count": 15
        }
      ]
    },
    {
      "cell_type": "code",
      "metadata": {
        "id": "jzJleURjL9iI"
      },
      "source": [
        "eval_dict['GaussianNB']={}\n",
        "eval_dict['GaussianNB']['Correctly zero classified']=confusion_matrix(y_test,y_pred)[0][0]\n",
        "eval_dict['GaussianNB']['Correctly one classified']=confusion_matrix(y_test,y_pred)[1][1]\n",
        "eval_dict['GaussianNB']['Total number of missclassified']=confusion_matrix(y_test,y_pred)[0][1]+confusion_matrix(y_test,y_pred)[1][0]\n",
        "eval_dict['GaussianNB']['Accuracy Score']=accuracy_score(y_test,y_pred)"
      ],
      "execution_count": 16,
      "outputs": []
    },
    {
      "cell_type": "code",
      "metadata": {
        "id": "gpQSxssb3dXB",
        "outputId": "10ac2e18-d889-43b1-f76e-7dec4b74a351",
        "colab": {
          "base_uri": "https://localhost:8080/",
          "height": 296
        }
      },
      "source": [
        "#plotting the confusion matrix.\n",
        "plot_confusion_matrix(gnb, X_test, y_test,\n",
        "                                 display_labels=[0,1],\n",
        "                                 cmap=plt.cm.Blues)"
      ],
      "execution_count": 17,
      "outputs": [
        {
          "output_type": "execute_result",
          "data": {
            "text/plain": [
              "<sklearn.metrics._plot.confusion_matrix.ConfusionMatrixDisplay at 0x7f33c1b92390>"
            ]
          },
          "metadata": {
            "tags": []
          },
          "execution_count": 17
        },
        {
          "output_type": "display_data",
          "data": {
            "image/png": "[encoded data removed]",
            "text/plain": [
              "<Figure size 432x288 with 2 Axes>"
            ]
          },
          "metadata": {
            "tags": [],
            "needs_background": "light"
          }
        }
      ]
    },
    {
      "cell_type": "markdown",
      "metadata": {
        "id": "5hiPqE1H7Nur"
      },
      "source": [
        "Here we are using grid search to get the best parameters for KNN so that we can train the model with suggested parameters to get more accuracy."
      ]
    },
    {
      "cell_type": "code",
      "metadata": {
        "id": "WpJz0DO40iUa",
        "outputId": "d57a561b-77d8-40ed-f3a1-0a17cb6339e7",
        "colab": {
          "base_uri": "https://localhost:8080/",
          "height": 306
        }
      },
      "source": [
        "#KNN Classifier\n",
        "pipe = Pipeline(steps=[('knn',KNeighborsClassifier())])\n",
        "param_grid= {\n",
        "    \n",
        "    'knn__n_neighbors': [1,3,5,7],\n",
        "    'knn__metric': ['manhattan', 'euclidean'],\n",
        "    'knn__weights': ['uniform', 'distance']\n",
        "    \n",
        "}\n",
        "gs = GridSearchCV(pipe, param_grid, cv = 5)\n",
        "gs.fit(X_train, y_train)"
      ],
      "execution_count": 18,
      "outputs": [
        {
          "output_type": "execute_result",
          "data": {
            "text/plain": [
              "GridSearchCV(cv=5, error_score=nan,\n",
              "             estimator=Pipeline(memory=None,\n",
              "                                steps=[('knn',\n",
              "                                        KNeighborsClassifier(algorithm='auto',\n",
              "                                                             leaf_size=30,\n",
              "                                                             metric='minkowski',\n",
              "                                                             metric_params=None,\n",
              "                                                             n_jobs=None,\n",
              "                                                             n_neighbors=5, p=2,\n",
              "                                                             weights='uniform'))],\n",
              "                                verbose=False),\n",
              "             iid='deprecated', n_jobs=None,\n",
              "             param_grid={'knn__metric': ['manhattan', 'euclidean'],\n",
              "                         'knn__n_neighbors': [1, 3, 5, 7],\n",
              "                         'knn__weights': ['uniform', 'distance']},\n",
              "             pre_dispatch='2*n_jobs', refit=True, return_train_score=False,\n",
              "             scoring=None, verbose=0)"
            ]
          },
          "metadata": {
            "tags": []
          },
          "execution_count": 18
        }
      ]
    },
    {
      "cell_type": "code",
      "metadata": {
        "id": "W-az9MQTIBuT",
        "outputId": "5061f017-cd66-4347-e78d-8a7166520edf",
        "colab": {
          "base_uri": "https://localhost:8080/",
          "height": 136
        }
      },
      "source": [
        "gs.best_estimator_"
      ],
      "execution_count": 19,
      "outputs": [
        {
          "output_type": "execute_result",
          "data": {
            "text/plain": [
              "Pipeline(memory=None,\n",
              "         steps=[('knn',\n",
              "                 KNeighborsClassifier(algorithm='auto', leaf_size=30,\n",
              "                                      metric='manhattan', metric_params=None,\n",
              "                                      n_jobs=None, n_neighbors=7, p=2,\n",
              "                                      weights='uniform'))],\n",
              "         verbose=False)"
            ]
          },
          "metadata": {
            "tags": []
          },
          "execution_count": 19
        }
      ]
    },
    {
      "cell_type": "code",
      "metadata": {
        "id": "6998nVPyK5iC"
      },
      "source": [
        "knn=KNeighborsClassifier(n_neighbors=7,metric='manhattan',weights='uniform')\n",
        "knn.fit(X_train,y_train)\n",
        "y_pred=knn.predict(X_test)"
      ],
      "execution_count": 20,
      "outputs": []
    },
    {
      "cell_type": "code",
      "metadata": {
        "id": "k_FOHBIEg_zh",
        "outputId": "036ebbc8-cec9-4b40-d3cc-4a655c21a3a6",
        "colab": {
          "base_uri": "https://localhost:8080/",
          "height": 68
        }
      },
      "source": [
        "#printing the confusion matrix and accuracy score.\n",
        "print(accuracy_score(y_test,y_pred))\n",
        "confusion_matrix(y_test,y_pred)"
      ],
      "execution_count": 21,
      "outputs": [
        {
          "output_type": "stream",
          "text": [
            "0.8753509485450395\n"
          ],
          "name": "stdout"
        },
        {
          "output_type": "execute_result",
          "data": {
            "text/plain": [
              "array([[66641,   411],\n",
              "       [ 9090,    80]])"
            ]
          },
          "metadata": {
            "tags": []
          },
          "execution_count": 21
        }
      ]
    },
    {
      "cell_type": "code",
      "metadata": {
        "id": "VIGkHcL4ki0D",
        "outputId": "be1283ed-e5b2-4bd6-d786-0b4829949d6e",
        "colab": {
          "base_uri": "https://localhost:8080/",
          "height": 296
        }
      },
      "source": [
        "#plotting the confusion matrix.\n",
        "plot_confusion_matrix(knn, X_test, y_test,\n",
        "                                 display_labels=[0,1],\n",
        "                                 cmap=plt.cm.Blues)"
      ],
      "execution_count": 22,
      "outputs": [
        {
          "output_type": "execute_result",
          "data": {
            "text/plain": [
              "<sklearn.metrics._plot.confusion_matrix.ConfusionMatrixDisplay at 0x7f33c1bfec88>"
            ]
          },
          "metadata": {
            "tags": []
          },
          "execution_count": 22
        },
        {
          "output_type": "display_data",
          "data": {
            "image/png": "[encoded data removed]",
            "text/plain": [
              "<Figure size 432x288 with 2 Axes>"
            ]
          },
          "metadata": {
            "tags": [],
            "needs_background": "light"
          }
        }
      ]
    },
    {
      "cell_type": "code",
      "metadata": {
        "id": "TYPB2egeMMPn"
      },
      "source": [
        "eval_dict['KNeighborsClassifier']={}\n",
        "eval_dict['KNeighborsClassifier']['Correctly zero classified']=confusion_matrix(y_test,y_pred)[0][0]\n",
        "eval_dict['KNeighborsClassifier']['Correctly one classified']=confusion_matrix(y_test,y_pred)[1][1]\n",
        "eval_dict['KNeighborsClassifier']['Total number of missclassified']=confusion_matrix(y_test,y_pred)[0][1]+confusion_matrix(y_test,y_pred)[1][0]\n",
        "eval_dict['KNeighborsClassifier']['Accuracy Score']=accuracy_score(y_test,y_pred)"
      ],
      "execution_count": 23,
      "outputs": []
    },
    {
      "cell_type": "markdown",
      "metadata": {
        "id": "qYc_HqPUq_TZ"
      },
      "source": [
        ""
      ]
    },
    {
      "cell_type": "markdown",
      "metadata": {
        "id": "5I4dmj64MZZh"
      },
      "source": [
        "# Handling the imbalance class problem by upsampling the data."
      ]
    },
    {
      "cell_type": "code",
      "metadata": {
        "id": "KaDfQc2UH6Gm",
        "outputId": "7d400858-7443-4e38-e7ba-929cc481c815",
        "colab": {
          "base_uri": "https://localhost:8080/",
          "height": 68
        }
      },
      "source": [
        "Maj_df = train_df[train_df['Response']==0]\n",
        "Min_df = train_df[train_df['Response']==1]\n",
        "Min_df_upsampled = resample(Min_df,replace=True,n_samples=334399,random_state = 0)\n",
        "balanced_df = pd.concat([Min_df_upsampled,Maj_df])\n",
        "balanced_df = shuffle(balanced_df)\n",
        "balanced_df.Response.value_counts()"
      ],
      "execution_count": 24,
      "outputs": [
        {
          "output_type": "execute_result",
          "data": {
            "text/plain": [
              "1    334399\n",
              "0    334399\n",
              "Name: Response, dtype: int64"
            ]
          },
          "metadata": {
            "tags": []
          },
          "execution_count": 24
        }
      ]
    },
    {
      "cell_type": "code",
      "metadata": {
        "id": "VTldPQRwJJCs",
        "outputId": "8b9f9211-cbd0-4ee3-b58e-333b884e3d86",
        "colab": {
          "base_uri": "https://localhost:8080/",
          "height": 34
        }
      },
      "source": [
        "X1_train, X1_test, y1_train, y1_test = train_test_split(balanced_df.drop(['Response'],axis=1),balanced_df['Response'], test_size=0.20, random_state=1)\n",
        "print(X1_train.shape,X1_test.shape,y1_train.shape,y1_test.shape)"
      ],
      "execution_count": 25,
      "outputs": [
        {
          "output_type": "stream",
          "text": [
            "(535038, 11) (133760, 11) (535038,) (133760,)\n"
          ],
          "name": "stdout"
        }
      ]
    },
    {
      "cell_type": "code",
      "metadata": {
        "id": "b_dti999J58M"
      },
      "source": [
        "# Random Forest Claasifier\n",
        "RFC1 = RandomForestClassifier()\n",
        "RFC1.fit(X1_train, y1_train)\n",
        " \n",
        "# Predict on training set\n",
        "y1_pred= RFC1.predict(X1_test)"
      ],
      "execution_count": 26,
      "outputs": []
    },
    {
      "cell_type": "code",
      "metadata": {
        "id": "W38iz9akNFn0"
      },
      "source": [
        "eval_dict['RandomForestClassifier_Balanced']={}\n",
        "eval_dict['RandomForestClassifier_Balanced']['Correctly zero classified']=confusion_matrix(y1_test,y1_pred)[0][0]\n",
        "eval_dict['RandomForestClassifier_Balanced']['Correctly one classified']=confusion_matrix(y1_test,y1_pred)[1][1]\n",
        "eval_dict['RandomForestClassifier_Balanced']['Total number of missclassified']=confusion_matrix(y1_test,y1_pred)[0][1]+confusion_matrix(y1_test,y1_pred)[1][0]\n",
        "eval_dict['RandomForestClassifier_Balanced']['Accuracy Score']=accuracy_score(y1_test,y1_pred)"
      ],
      "execution_count": 27,
      "outputs": []
    },
    {
      "cell_type": "code",
      "metadata": {
        "id": "JZ9xf7SLk4wP",
        "outputId": "621ba226-7e1b-4ac8-c03a-76a09173e1d9",
        "colab": {
          "base_uri": "https://localhost:8080/",
          "height": 296
        }
      },
      "source": [
        "#plotting the confusion matrix.\n",
        "plot_confusion_matrix(RFC1, X1_test, y1_test,\n",
        "                                 display_labels=[0,1],\n",
        "                                 cmap=plt.cm.Blues)"
      ],
      "execution_count": 28,
      "outputs": [
        {
          "output_type": "execute_result",
          "data": {
            "text/plain": [
              "<sklearn.metrics._plot.confusion_matrix.ConfusionMatrixDisplay at 0x7f33be2b10f0>"
            ]
          },
          "metadata": {
            "tags": []
          },
          "execution_count": 28
        },
        {
          "output_type": "display_data",
          "data": {
            "image/png": "[encoded data removed]",
            "text/plain": [
              "<Figure size 432x288 with 2 Axes>"
            ]
          },
          "metadata": {
            "tags": [],
            "needs_background": "light"
          }
        }
      ]
    },
    {
      "cell_type": "code",
      "metadata": {
        "id": "GU2gxqsPKP19",
        "outputId": "0cdde40d-319e-4be4-ad98-7dffe7095d57",
        "colab": {
          "base_uri": "https://localhost:8080/",
          "height": 68
        }
      },
      "source": [
        "#printing the confusion matrix and accuracy score.\n",
        "print(confusion_matrix(y1_test,y1_pred))\n",
        "print(accuracy_score(y1_test, y1_pred))"
      ],
      "execution_count": 29,
      "outputs": [
        {
          "output_type": "stream",
          "text": [
            "[[61338  5651]\n",
            " [  136 66635]]\n",
            "0.9567359449760765\n"
          ],
          "name": "stdout"
        }
      ]
    },
    {
      "cell_type": "code",
      "metadata": {
        "id": "tXJ3nNH3KgzI"
      },
      "source": [
        "#logisticregression\n",
        "logistic_model=LogisticRegression()\n",
        "logistic_model.fit(X1_train,y1_train)\n",
        "y1_pred=logistic_model.predict(X1_test)"
      ],
      "execution_count": 30,
      "outputs": []
    },
    {
      "cell_type": "code",
      "metadata": {
        "id": "mVqg8jqrOO4u",
        "outputId": "217b4a62-e456-40c0-b4e0-604a74173b95",
        "colab": {
          "base_uri": "https://localhost:8080/",
          "height": 68
        }
      },
      "source": [
        "#printing the confusion matrix and accuracy score.\n",
        "print(confusion_matrix(y1_test,y1_pred))\n",
        "print(accuracy_score(y1_test, y1_pred))"
      ],
      "execution_count": 31,
      "outputs": [
        {
          "output_type": "stream",
          "text": [
            "[[47443 19546]\n",
            " [35553 31218]]\n",
            "0.5880756578947368\n"
          ],
          "name": "stdout"
        }
      ]
    },
    {
      "cell_type": "code",
      "metadata": {
        "id": "Pjk3YEO5k--c",
        "outputId": "f41a93c9-342a-4111-bf2f-b1b253a5f1e7",
        "colab": {
          "base_uri": "https://localhost:8080/",
          "height": 296
        }
      },
      "source": [
        "#plotting the confusion matrix.\n",
        "plot_confusion_matrix(logistic_model, X1_test, y1_test,\n",
        "                                 display_labels=[0,1],\n",
        "                                 cmap=plt.cm.Blues)"
      ],
      "execution_count": 32,
      "outputs": [
        {
          "output_type": "execute_result",
          "data": {
            "text/plain": [
              "<sklearn.metrics._plot.confusion_matrix.ConfusionMatrixDisplay at 0x7f33be257208>"
            ]
          },
          "metadata": {
            "tags": []
          },
          "execution_count": 32
        },
        {
          "output_type": "display_data",
          "data": {
            "image/png": "[encoded data removed]",
            "text/plain": [
              "<Figure size 432x288 with 2 Axes>"
            ]
          },
          "metadata": {
            "tags": [],
            "needs_background": "light"
          }
        }
      ]
    },
    {
      "cell_type": "code",
      "metadata": {
        "id": "Mm1F3idVMxgw"
      },
      "source": [
        "eval_dict['LogisticRegression_Balanced']={}\n",
        "eval_dict['LogisticRegression_Balanced']['Correctly zero classified']=confusion_matrix(y1_test,y1_pred)[0][0]\n",
        "eval_dict['LogisticRegression_Balanced']['Correctly one classified']=confusion_matrix(y1_test,y1_pred)[1][1]\n",
        "eval_dict['LogisticRegression_Balanced']['Total number of missclassified']=confusion_matrix(y1_test,y1_pred)[0][1]+confusion_matrix(y1_test,y1_pred)[1][0]\n",
        "eval_dict['LogisticRegression_Balanced']['Accuracy Score']=accuracy_score(y1_test,y1_pred)"
      ],
      "execution_count": 33,
      "outputs": []
    },
    {
      "cell_type": "code",
      "metadata": {
        "id": "vbk0iJaCOU3c"
      },
      "source": [
        "#GaussianNB\n",
        "gnb = GaussianNB()\n",
        "y1_pred = gnb.fit(X1_train, y1_train).predict(X1_test)"
      ],
      "execution_count": null,
      "outputs": []
    },
    {
      "cell_type": "code",
      "metadata": {
        "id": "UIwIqddgOwIB",
        "outputId": "b8dc3f5b-12ca-4a27-f703-497e9156deff",
        "colab": {
          "base_uri": "https://localhost:8080/",
          "height": 68
        }
      },
      "source": [
        "#printing the confusion matrix and accuracy score.\n",
        "print(confusion_matrix(y1_test,y1_pred))\n",
        "print(accuracy_score(y1_test, y1_pred))"
      ],
      "execution_count": 35,
      "outputs": [
        {
          "output_type": "stream",
          "text": [
            "[[41409 25580]\n",
            " [23920 42851]]\n",
            "0.6299342105263158\n"
          ],
          "name": "stdout"
        }
      ]
    },
    {
      "cell_type": "code",
      "metadata": {
        "id": "VAX4-1VChr4C",
        "outputId": "e977ca9a-2e1b-4dde-d6c1-d72f5c7271a6",
        "colab": {
          "base_uri": "https://localhost:8080/",
          "height": 296
        }
      },
      "source": [
        "#plotting the confusion matrix.\n",
        "plot_confusion_matrix(gnb, X1_test, y1_test,\n",
        "                                 display_labels=[0,1],\n",
        "                                 cmap=plt.cm.Blues)"
      ],
      "execution_count": 36,
      "outputs": [
        {
          "output_type": "execute_result",
          "data": {
            "text/plain": [
              "<sklearn.metrics._plot.confusion_matrix.ConfusionMatrixDisplay at 0x7f33bee831d0>"
            ]
          },
          "metadata": {
            "tags": []
          },
          "execution_count": 36
        },
        {
          "output_type": "display_data",
          "data": {
            "image/png": "[encoded data removed]",
            "text/plain": [
              "<Figure size 432x288 with 2 Axes>"
            ]
          },
          "metadata": {
            "tags": [],
            "needs_background": "light"
          }
        }
      ]
    },
    {
      "cell_type": "code",
      "metadata": {
        "id": "jrfIK8fIMqFP"
      },
      "source": [
        "eval_dict['GaussianNB_Balanced']={}\n",
        "eval_dict['GaussianNB_Balanced']['Correctly zero classified']=confusion_matrix(y1_test,y1_pred)[0][0]\n",
        "eval_dict['GaussianNB_Balanced']['Correctly one classified']=confusion_matrix(y1_test,y1_pred)[1][1]\n",
        "eval_dict['GaussianNB_Balanced']['Total number of missclassified']=confusion_matrix(y1_test,y1_pred)[0][1]+confusion_matrix(y1_test,y1_pred)[1][0]\n",
        "eval_dict['GaussianNB_Balanced']['Accuracy Score']=accuracy_score(y1_test,y1_pred)"
      ],
      "execution_count": 37,
      "outputs": []
    },
    {
      "cell_type": "code",
      "metadata": {
        "id": "SZ-PZlGSOy5F",
        "outputId": "6326cca8-e3a2-4859-9b13-d44d5b66d2de",
        "colab": {
          "base_uri": "https://localhost:8080/",
          "height": 306
        }
      },
      "source": [
        "#KNN classifier.\n",
        "pipe = Pipeline(steps=[('knn',KNeighborsClassifier())])\n",
        "param_grid= {\n",
        "    \n",
        "    'knn__n_neighbors': [1,3,5,7],\n",
        "    'knn__metric': ['manhattan', 'euclidean'],\n",
        "    'knn__weights': ['uniform', 'distance']\n",
        "    \n",
        "}\n",
        "gs = GridSearchCV(pipe, param_grid, cv = 5)\n",
        "gs.fit(X1_train, y1_train)"
      ],
      "execution_count": 38,
      "outputs": [
        {
          "output_type": "execute_result",
          "data": {
            "text/plain": [
              "GridSearchCV(cv=5, error_score=nan,\n",
              "             estimator=Pipeline(memory=None,\n",
              "                                steps=[('knn',\n",
              "                                        KNeighborsClassifier(algorithm='auto',\n",
              "                                                             leaf_size=30,\n",
              "                                                             metric='minkowski',\n",
              "                                                             metric_params=None,\n",
              "                                                             n_jobs=None,\n",
              "                                                             n_neighbors=5, p=2,\n",
              "                                                             weights='uniform'))],\n",
              "                                verbose=False),\n",
              "             iid='deprecated', n_jobs=None,\n",
              "             param_grid={'knn__metric': ['manhattan', 'euclidean'],\n",
              "                         'knn__n_neighbors': [1, 3, 5, 7],\n",
              "                         'knn__weights': ['uniform', 'distance']},\n",
              "             pre_dispatch='2*n_jobs', refit=True, return_train_score=False,\n",
              "             scoring=None, verbose=0)"
            ]
          },
          "metadata": {
            "tags": []
          },
          "execution_count": 38
        }
      ]
    },
    {
      "cell_type": "code",
      "metadata": {
        "id": "SC0q1-qUPFA5",
        "outputId": "ff87bf63-dbca-4523-e474-a259fdf1fda0",
        "colab": {
          "base_uri": "https://localhost:8080/",
          "height": 136
        }
      },
      "source": [
        "gs.best_estimator_"
      ],
      "execution_count": 39,
      "outputs": [
        {
          "output_type": "execute_result",
          "data": {
            "text/plain": [
              "Pipeline(memory=None,\n",
              "         steps=[('knn',\n",
              "                 KNeighborsClassifier(algorithm='auto', leaf_size=30,\n",
              "                                      metric='manhattan', metric_params=None,\n",
              "                                      n_jobs=None, n_neighbors=1, p=2,\n",
              "                                      weights='uniform'))],\n",
              "         verbose=False)"
            ]
          },
          "metadata": {
            "tags": []
          },
          "execution_count": 39
        }
      ]
    },
    {
      "cell_type": "code",
      "metadata": {
        "id": "mi8YdRzxPJnU",
        "outputId": "049e0848-9a8c-4c44-8841-460ed9b17518",
        "colab": {
          "base_uri": "https://localhost:8080/",
          "height": 68
        }
      },
      "source": [
        "knn=KNeighborsClassifier(n_neighbors=1,metric='manhattan',weights='uniform')\n",
        "knn.fit(X1_train,y1_train)\n",
        "y_pred=knn.predict(X1_test)\n",
        "#printing the confusion matrix and accuracy score.\n",
        "print(accuracy_score(y1_test,y1_pred))\n",
        "confusion_matrix(y1_test,y1_pred)"
      ],
      "execution_count": 40,
      "outputs": [
        {
          "output_type": "stream",
          "text": [
            "0.6299342105263158\n"
          ],
          "name": "stdout"
        },
        {
          "output_type": "execute_result",
          "data": {
            "text/plain": [
              "array([[41409, 25580],\n",
              "       [23920, 42851]])"
            ]
          },
          "metadata": {
            "tags": []
          },
          "execution_count": 40
        }
      ]
    },
    {
      "cell_type": "code",
      "metadata": {
        "id": "yAU2K3wDlR-r",
        "outputId": "36060282-17a5-4ba7-99ed-14c323e0cb39",
        "colab": {
          "base_uri": "https://localhost:8080/",
          "height": 296
        }
      },
      "source": [
        "#plotting the confusion matrix.\n",
        "plot_confusion_matrix(knn, X1_test, y1_test,\n",
        "                                 display_labels=[0,1],\n",
        "                                 cmap=plt.cm.Blues)"
      ],
      "execution_count": 41,
      "outputs": [
        {
          "output_type": "execute_result",
          "data": {
            "text/plain": [
              "<sklearn.metrics._plot.confusion_matrix.ConfusionMatrixDisplay at 0x7f33bd91e8d0>"
            ]
          },
          "metadata": {
            "tags": []
          },
          "execution_count": 41
        },
        {
          "output_type": "display_data",
          "data": {
            "image/png": "[encoded data removed]",
            "text/plain": [
              "<Figure size 432x288 with 2 Axes>"
            ]
          },
          "metadata": {
            "tags": [],
            "needs_background": "light"
          }
        }
      ]
    },
    {
      "cell_type": "code",
      "metadata": {
        "id": "wmxs130gPUNh"
      },
      "source": [
        "eval_dict['KNeighborsClassifier_Balanced']={}\n",
        "eval_dict['KNeighborsClassifier_Balanced']['Correctly zero classified']=confusion_matrix(y1_test,y1_pred)[0][0]\n",
        "eval_dict['KNeighborsClassifier_Balanced']['Correctly one classified']=confusion_matrix(y1_test,y1_pred)[1][1]\n",
        "eval_dict['KNeighborsClassifier_Balanced']['Total number of missclassified']=confusion_matrix(y1_test,y1_pred)[0][1]+confusion_matrix(y1_test,y1_pred)[1][0]\n",
        "eval_dict['KNeighborsClassifier_Balanced']['Accuracy Score']=accuracy_score(y1_test,y1_pred)"
      ],
      "execution_count": 44,
      "outputs": []
    },
    {
      "cell_type": "markdown",
      "metadata": {
        "id": "gb8yXxny9QBd"
      },
      "source": [
        "Making a dataframe from the dictionary along with the results of each classifier."
      ]
    },
    {
      "cell_type": "code",
      "metadata": {
        "id": "H33U5kwONgta",
        "outputId": "d2050550-5cbb-4a4c-8198-b4946e2f97e3",
        "colab": {
          "base_uri": "https://localhost:8080/",
          "height": 297
        }
      },
      "source": [
        "pd.DataFrame.from_dict(eval_dict, orient='index')"
      ],
      "execution_count": 45,
      "outputs": [
        {
          "output_type": "execute_result",
          "data": {
            "text/html": [
              "<div>\n",
              "<style scoped>\n",
              "    .dataframe tbody tr th:only-of-type {\n",
              "        vertical-align: middle;\n",
              "    }\n",
              "\n",
              "    .dataframe tbody tr th {\n",
              "        vertical-align: top;\n",
              "    }\n",
              "\n",
              "    .dataframe thead th {\n",
              "        text-align: right;\n",
              "    }\n",
              "</style>\n",
              "<table border=\"1\" class=\"dataframe\">\n",
              "  <thead>\n",
              "    <tr style=\"text-align: right;\">\n",
              "      <th></th>\n",
              "      <th>Correctly zero classified</th>\n",
              "      <th>Correctly one classified</th>\n",
              "      <th>Total number of missclassified</th>\n",
              "      <th>Accuracy Score</th>\n",
              "    </tr>\n",
              "  </thead>\n",
              "  <tbody>\n",
              "    <tr>\n",
              "      <th>RandomForest</th>\n",
              "      <td>65896</td>\n",
              "      <td>682</td>\n",
              "      <td>9644</td>\n",
              "      <td>0.873475</td>\n",
              "    </tr>\n",
              "    <tr>\n",
              "      <th>LogisticRegression</th>\n",
              "      <td>67052</td>\n",
              "      <td>0</td>\n",
              "      <td>9170</td>\n",
              "      <td>0.879694</td>\n",
              "    </tr>\n",
              "    <tr>\n",
              "      <th>GaussianNB</th>\n",
              "      <td>66898</td>\n",
              "      <td>40</td>\n",
              "      <td>9284</td>\n",
              "      <td>0.878198</td>\n",
              "    </tr>\n",
              "    <tr>\n",
              "      <th>KNeighborsClassifier</th>\n",
              "      <td>66641</td>\n",
              "      <td>80</td>\n",
              "      <td>9501</td>\n",
              "      <td>0.875351</td>\n",
              "    </tr>\n",
              "    <tr>\n",
              "      <th>RandomForestClassifier_Balanced</th>\n",
              "      <td>61338</td>\n",
              "      <td>66635</td>\n",
              "      <td>5787</td>\n",
              "      <td>0.956736</td>\n",
              "    </tr>\n",
              "    <tr>\n",
              "      <th>LogisticRegression_Balanced</th>\n",
              "      <td>47443</td>\n",
              "      <td>31218</td>\n",
              "      <td>55099</td>\n",
              "      <td>0.588076</td>\n",
              "    </tr>\n",
              "    <tr>\n",
              "      <th>GaussianNB_Balanced</th>\n",
              "      <td>41409</td>\n",
              "      <td>42851</td>\n",
              "      <td>49500</td>\n",
              "      <td>0.629934</td>\n",
              "    </tr>\n",
              "    <tr>\n",
              "      <th>KNeighborsClassifier_Balanced</th>\n",
              "      <td>41409</td>\n",
              "      <td>42851</td>\n",
              "      <td>49500</td>\n",
              "      <td>0.629934</td>\n",
              "    </tr>\n",
              "  </tbody>\n",
              "</table>\n",
              "</div>"
            ],
            "text/plain": [
              "                                 Correctly zero classified  ...  Accuracy Score\n",
              "RandomForest                                         65896  ...        0.873475\n",
              "LogisticRegression                                   67052  ...        0.879694\n",
              "GaussianNB                                           66898  ...        0.878198\n",
              "KNeighborsClassifier                                 66641  ...        0.875351\n",
              "RandomForestClassifier_Balanced                      61338  ...        0.956736\n",
              "LogisticRegression_Balanced                          47443  ...        0.588076\n",
              "GaussianNB_Balanced                                  41409  ...        0.629934\n",
              "KNeighborsClassifier_Balanced                        41409  ...        0.629934\n",
              "\n",
              "[8 rows x 4 columns]"
            ]
          },
          "metadata": {
            "tags": []
          },
          "execution_count": 45
        }
      ]
    },
    {
      "cell_type": "markdown",
      "metadata": {
        "id": "QFDA3d_Y9esg"
      },
      "source": [
        "**Results:**\n",
        "\n",
        "This is a classic example where accuracy of these algorithms is not the primary metric to assess the success of the model. The data has one class in access as compared to the other class i.e. the response 'Yes' are almost half or less a scompared to response 'No'. This creates a class imbalance. The models will give good accuracy as it can predict one class but as there are not enough samples of the other class it wont be able to predict the other class. Thus, it is very important to address the class imbalance as both positive and negative classes are important.The classifier that performed well with class imblaance was Gaussian Naive Bayes. According to the given results Random Forest Classifier with balanced class is the best performer as it has the least amount of missclassified samples (from the confusion matrix) and highest accuracy score. Where as other models displayed alot of missclassified samples after class imbalance was addressed."
      ]
    },
    {
      "cell_type": "markdown",
      "metadata": {
        "id": "8UFSVCZVafw5"
      },
      "source": [
        "**Conclusion:**\n",
        "\n",
        "Data analysis is important aspect as it gives more insight about data. Accuracy is not the correct metric to assess this problem. Class imbalance has to be addressed first. The method we used to address class imbalance in this problem was upscaling. The balanced model that performed well was RandomForest classifier.  "
      ]
    },
    {
      "cell_type": "markdown",
      "metadata": {
        "id": "TwIGDouAoX8t"
      },
      "source": [
        "**Future Work and limitation:**\n",
        "\n",
        "The limitation in this project is that we have only used a few models. Also, the test data set provided by the source has no reference to check if the reponses which we are fetting are accurate or not. There are other methods for handling class imbalance which have not been displayed here. They can have different results for different classification algorithms that can be tested further on this dataset.\n"
      ]
    }
  ]
}