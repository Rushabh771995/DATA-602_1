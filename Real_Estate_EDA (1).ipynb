{
  "nbformat": 4,
  "nbformat_minor": 0,
  "metadata": {
    "colab": {
      "name": "Real_Estate_EDA.ipynb",
      "provenance": []
    },
    "kernelspec": {
      "name": "python3",
      "display_name": "Python 3"
    }
  },
  "cells": [
    {
      "cell_type": "code",
      "metadata": {
        "id": "bAPSrhBdx3XI",
        "colab_type": "code",
        "colab": {
          "base_uri": "https://localhost:8080/",
          "height": 70
        },
        "outputId": "83a3d1ed-e297-40dd-9979-817298ec6606"
      },
      "source": [
        "import pandas as pd\n",
        "import numpy as np\n",
        "import matplotlib.pyplot as plt\n",
        "from sklearn.linear_model import LinearRegression\n",
        "import statsmodels.api as sm\n"
      ],
      "execution_count": null,
      "outputs": [
        {
          "output_type": "stream",
          "text": [
            "/usr/local/lib/python3.6/dist-packages/statsmodels/tools/_testing.py:19: FutureWarning: pandas.util.testing is deprecated. Use the functions in the public API at pandas.testing instead.\n",
            "  import pandas.util.testing as tm\n"
          ],
          "name": "stderr"
        }
      ]
    },
    {
      "cell_type": "code",
      "metadata": {
        "id": "jUO9GEGGznoA",
        "colab_type": "code",
        "colab": {
          "base_uri": "https://localhost:8080/",
          "height": 33
        },
        "outputId": "1f44e2cc-7fcd-4fe7-885b-8c489e5bf1a2"
      },
      "source": [
        "from google.colab import drive\n",
        "drive.mount('/content/drive')"
      ],
      "execution_count": null,
      "outputs": [
        {
          "output_type": "stream",
          "text": [
            "Mounted at /content/drive\n"
          ],
          "name": "stdout"
        }
      ]
    },
    {
      "cell_type": "code",
      "metadata": {
        "id": "JPxPVgKhyJ9Q",
        "colab_type": "code",
        "colab": {
          "base_uri": "https://localhost:8080/",
          "height": 197
        },
        "outputId": "bf01b0df-e4f9-44fa-e86b-6d0a328bb9f6"
      },
      "source": [
        "df= pd.read_csv('/content/drive/My Drive/Real estate.csv')\n",
        "df.head()"
      ],
      "execution_count": null,
      "outputs": [
        {
          "output_type": "execute_result",
          "data": {
            "text/html": [
              "<div>\n",
              "<style scoped>\n",
              "    .dataframe tbody tr th:only-of-type {\n",
              "        vertical-align: middle;\n",
              "    }\n",
              "\n",
              "    .dataframe tbody tr th {\n",
              "        vertical-align: top;\n",
              "    }\n",
              "\n",
              "    .dataframe thead th {\n",
              "        text-align: right;\n",
              "    }\n",
              "</style>\n",
              "<table border=\"1\" class=\"dataframe\">\n",
              "  <thead>\n",
              "    <tr style=\"text-align: right;\">\n",
              "      <th></th>\n",
              "      <th>No</th>\n",
              "      <th>X1 transaction date</th>\n",
              "      <th>X2 house age</th>\n",
              "      <th>X3 distance to the nearest MRT station</th>\n",
              "      <th>X4 number of convenience stores</th>\n",
              "      <th>X5 latitude</th>\n",
              "      <th>X6 longitude</th>\n",
              "      <th>Y house price of unit area</th>\n",
              "    </tr>\n",
              "  </thead>\n",
              "  <tbody>\n",
              "    <tr>\n",
              "      <th>0</th>\n",
              "      <td>1</td>\n",
              "      <td>2012.917</td>\n",
              "      <td>32.0</td>\n",
              "      <td>84.87882</td>\n",
              "      <td>10</td>\n",
              "      <td>24.98298</td>\n",
              "      <td>121.54024</td>\n",
              "      <td>37.9</td>\n",
              "    </tr>\n",
              "    <tr>\n",
              "      <th>1</th>\n",
              "      <td>2</td>\n",
              "      <td>2012.917</td>\n",
              "      <td>19.5</td>\n",
              "      <td>306.59470</td>\n",
              "      <td>9</td>\n",
              "      <td>24.98034</td>\n",
              "      <td>121.53951</td>\n",
              "      <td>42.2</td>\n",
              "    </tr>\n",
              "    <tr>\n",
              "      <th>2</th>\n",
              "      <td>3</td>\n",
              "      <td>2013.583</td>\n",
              "      <td>13.3</td>\n",
              "      <td>561.98450</td>\n",
              "      <td>5</td>\n",
              "      <td>24.98746</td>\n",
              "      <td>121.54391</td>\n",
              "      <td>47.3</td>\n",
              "    </tr>\n",
              "    <tr>\n",
              "      <th>3</th>\n",
              "      <td>4</td>\n",
              "      <td>2013.500</td>\n",
              "      <td>13.3</td>\n",
              "      <td>561.98450</td>\n",
              "      <td>5</td>\n",
              "      <td>24.98746</td>\n",
              "      <td>121.54391</td>\n",
              "      <td>54.8</td>\n",
              "    </tr>\n",
              "    <tr>\n",
              "      <th>4</th>\n",
              "      <td>5</td>\n",
              "      <td>2012.833</td>\n",
              "      <td>5.0</td>\n",
              "      <td>390.56840</td>\n",
              "      <td>5</td>\n",
              "      <td>24.97937</td>\n",
              "      <td>121.54245</td>\n",
              "      <td>43.1</td>\n",
              "    </tr>\n",
              "  </tbody>\n",
              "</table>\n",
              "</div>"
            ],
            "text/plain": [
              "   No  X1 transaction date  ...  X6 longitude  Y house price of unit area\n",
              "0   1             2012.917  ...     121.54024                        37.9\n",
              "1   2             2012.917  ...     121.53951                        42.2\n",
              "2   3             2013.583  ...     121.54391                        47.3\n",
              "3   4             2013.500  ...     121.54391                        54.8\n",
              "4   5             2012.833  ...     121.54245                        43.1\n",
              "\n",
              "[5 rows x 8 columns]"
            ]
          },
          "metadata": {
            "tags": []
          },
          "execution_count": 4
        }
      ]
    },
    {
      "cell_type": "markdown",
      "metadata": {
        "id": "YLwzo46j2-zm",
        "colab_type": "text"
      },
      "source": [
        "It is necessary for us to check if there is any linear relation of the depended variable with all the independent variables so that we can eliminate them for better understanding and fitting of the model."
      ]
    },
    {
      "cell_type": "code",
      "metadata": {
        "id": "inJkE5Jb1l1X",
        "colab_type": "code",
        "colab": {
          "base_uri": "https://localhost:8080/",
          "height": 300
        },
        "outputId": "2d3f76ba-c82f-4f59-f4b6-d6c8c6ac137c"
      },
      "source": [
        "#Plot helps to see the relationship between house prices and its nearness to station.\n",
        "plt.scatter(df['X3 distance to the nearest MRT station'], df['Y house price of unit area'], color='red')\n",
        "plt.title('Nearest MRT station Vs house price', fontsize=14)\n",
        "plt.xlabel('Nearest MRT station', fontsize=14)\n",
        "plt.ylabel('House Price', fontsize=14)\n",
        "plt.show()"
      ],
      "execution_count": null,
      "outputs": [
        {
          "output_type": "display_data",
          "data": {
            "image/png": "[encoded data removed]",
            "text/plain": [
              "<Figure size 432x288 with 1 Axes>"
            ]
          },
          "metadata": {
            "tags": [],
            "needs_background": "light"
          }
        }
      ]
    },
    {
      "cell_type": "markdown",
      "metadata": {
        "id": "QI8aE6LE3cl_",
        "colab_type": "text"
      },
      "source": [
        "The above figure shows that the prices of the house are higher if the house is nearby but fails to show any linear relation.\n"
      ]
    },
    {
      "cell_type": "code",
      "metadata": {
        "id": "kSQJoSyY1zw6",
        "colab_type": "code",
        "colab": {
          "base_uri": "https://localhost:8080/",
          "height": 300
        },
        "outputId": "fcd7e7ad-9c8d-4ae5-bee5-22d47b7318b0"
      },
      "source": [
        "# Relation between house age and price.\n",
        "plt.scatter(df['X2 house age'], df['Y house price of unit area'], color='blue')\n",
        "plt.title('House age Vs House price', fontsize=14)\n",
        "plt.xlabel('house age', fontsize=14)\n",
        "plt.ylabel('House Price', fontsize=14)\n",
        "plt.show()"
      ],
      "execution_count": null,
      "outputs": [
        {
          "output_type": "display_data",
          "data": {
            "image/png": "[encoded data removed]",
            "text/plain": [
              "<Figure size 432x288 with 1 Axes>"
            ]
          },
          "metadata": {
            "tags": [],
            "needs_background": "light"
          }
        }
      ]
    },
    {
      "cell_type": "markdown",
      "metadata": {
        "id": "5p3lGssH4yK2",
        "colab_type": "text"
      },
      "source": [
        "The plot shows no signs of having any any linear relationship between the age and price of the house."
      ]
    },
    {
      "cell_type": "code",
      "metadata": {
        "id": "6jbqngSt4r9l",
        "colab_type": "code",
        "colab": {
          "base_uri": "https://localhost:8080/",
          "height": 300
        },
        "outputId": "7f195abc-217d-4f7b-cbf4-66cd044fbaa0"
      },
      "source": [
        "plt.bar(df['X4 number of convenience stores'], df['Y house price of unit area'], color='yellow')\n",
        "plt.title('No. of stores Vs house price', fontsize=14)\n",
        "plt.xlabel('No. of stores', fontsize=14)\n",
        "plt.ylabel('House Price', fontsize=14)\n",
        "plt.show()"
      ],
      "execution_count": null,
      "outputs": [
        {
          "output_type": "display_data",
          "data": {
            "image/png": "[encoded data removed]",
            "text/plain": [
              "<Figure size 432x288 with 1 Axes>"
            ]
          },
          "metadata": {
            "tags": [],
            "needs_background": "light"
          }
        }
      ]
    },
    {
      "cell_type": "markdown",
      "metadata": {
        "id": "KAZzqftD6Vui",
        "colab_type": "text"
      },
      "source": [
        "It is evident that the number of stores does not contribute towards the home prices as there is no linear relation between the two variables. "
      ]
    },
    {
      "cell_type": "markdown",
      "metadata": {
        "id": "ig7nNpFu4HCq",
        "colab_type": "text"
      },
      "source": [
        "As there are no variables that show any linear relation we cannot eliminate them."
      ]
    },
    {
      "cell_type": "code",
      "metadata": {
        "id": "18_lxlKdMexU",
        "colab_type": "code",
        "colab": {}
      },
      "source": [
        ""
      ],
      "execution_count": null,
      "outputs": []
    }
  ]
}